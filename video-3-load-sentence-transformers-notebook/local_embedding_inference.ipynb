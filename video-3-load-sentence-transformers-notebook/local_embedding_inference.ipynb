{
 "cells": [
  {
   "cell_type": "markdown",
   "metadata": {},
   "source": ["# Load Sentence-Transformers model and run single-batch inference"]
  },
  {
   "cell_type": "code",
   "metadata": {},
   "source": ["from sentence_transformers import SentenceTransformer\nimport numpy as np"]
  },
  {
   "cell_type": "code",
   "metadata": {},
   "source": ["model_name = \"sentence-transformers/all-MiniLM-L6-v2\"\nprint(f\"Loading model {model_name}\")\nmodel = SentenceTransformer(model_name)\nprint(\"Model loaded\")"]
  },
  {
   "cell_type": "code",
   "metadata": {},
   "source": ["batch_texts = [\"This is a test.\", \"Another example sentence.\"]\nembeddings = model.encode(batch_texts, batch_size=32, show_progress_bar=True)\nprint(\"Embeddings shape:\", embeddings.shape)\nprint(\"First embedding sample:\", embeddings[0][:6])"]
  },
  {
   "cell_type": "code",
   "metadata": {},
   "source": ["import os\nnp.savez_compressed(\"embeddings.npz\", embeddings=embeddings)\nos.system(\"ls -lh embeddings.npz\")"]
  }
 ],
 "metadata": {
  "kernelspec": {
   "display_name": "Python 3",
   "language": "python",
   "name": "python3"
  },
  "language_info": {
   "name": "python",
   "version": "3.8"
  }
 },
 "nbformat": 4,
 "nbformat_minor": 2
}
