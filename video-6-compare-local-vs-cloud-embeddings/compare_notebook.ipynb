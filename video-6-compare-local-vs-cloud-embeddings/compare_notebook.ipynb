{
 "cells": [
  {
   "cell_type": "markdown",
   "metadata": {},
   "source": ["# Compare Local vs Cloud Embeddings Demo"]
  },
  {
   "cell_type": "code",
   "metadata": {},
   "source": ["!python compare_embeddings.py --local ../video-5-build-faiss-index-knn-retrieval/knn_results.json --cloud cloud_baseline.json --queries queries.json --k 5 --out results.json"]
  },
  {
   "cell_type": "code",
   "metadata": {},
   "source": ["import json\nprint(json.dumps(json.load(open('results.json')), indent=2))"]
  }
 ],
 "metadata": {"kernelspec": {"display_name": "Python 3", "language": "python", "name": "python3"}, "language_info": {"name": "python", "version": "3.8"}},
 "nbformat": 4,
 "nbformat_minor": 2
}
